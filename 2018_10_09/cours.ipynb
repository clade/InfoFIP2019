{
 "cells": [
  {
   "cell_type": "markdown",
   "metadata": {},
   "source": [
    "# Installation de Python \n",
    "\n",
    "- On utilise la version 3 de Python (3.7 est la version courrante)\n",
    "- Quelques différences avec la version 2 de Python (version 2.7 est la version courrante)\n",
    "- Distribution : Anaconda. Installation de tout les package. Linux, Mac OS et Windows\n",
    "- Utilisation de Python : \n",
    "    - Console : \"ipython\" ou \"jupyter console\"\n",
    "    - Spyder : environnement à la matlab\n",
    "    - Jupyter notebook : pratique pour des petits exemples. Ne permet pas de faire un projet en Python"
   ]
  },
  {
   "cell_type": "markdown",
   "metadata": {},
   "source": [
    "# 1. Les types d'objets en Python"
   ]
  },
  {
   "cell_type": "markdown",
   "metadata": {
    "slideshow": {
     "slide_type": "slide"
    }
   },
   "source": [
    "# Les nombres\n",
    "- entier (taille infinie)\n",
    "- flottant\n",
    "- complexe\n",
    "- booléen"
   ]
  },
  {
   "cell_type": "code",
   "execution_count": 10,
   "metadata": {},
   "outputs": [
    {
     "data": {
      "text/plain": [
       "2.0"
      ]
     },
     "execution_count": 10,
     "metadata": {},
     "output_type": "execute_result"
    }
   ],
   "source": [
    "2**50\n",
    "\n",
    "2**-52\n",
    "\n",
    "(1 + 1E-15) - 1\n",
    "\n",
    "\n",
    "z = 1 + 2J\n",
    "z.real\n",
    "z.imag"
   ]
  },
  {
   "cell_type": "code",
   "execution_count": 20,
   "metadata": {},
   "outputs": [
    {
     "name": "stdout",
     "output_type": "stream",
     "text": [
      "PAS OK\n"
     ]
    },
    {
     "data": {
      "text/plain": [
       "True"
      ]
     },
     "execution_count": 20,
     "metadata": {},
     "output_type": "execute_result"
    }
   ],
   "source": [
    "a = 1\n",
    "(a==1) or False\n",
    "\n",
    "a = -1\n",
    "from math import sqrt\n",
    "\n",
    "if a>0 and sqrt(a)==2:\n",
    "    print('OK')\n",
    "else:\n",
    "    print('PAS OK')\n",
    "    \n",
    "True and 27\n",
    "\n",
    "(True and False) or True"
   ]
  },
  {
   "cell_type": "markdown",
   "metadata": {},
   "source": [
    "# Les chaînes de caratères\n",
    "- création ( \", ', et \"\"\")\n",
    "- quelques méthodes utiles"
   ]
  },
  {
   "cell_type": "code",
   "execution_count": 41,
   "metadata": {},
   "outputs": [
    {
     "name": "stdout",
     "output_type": "stream",
     "text": [
      "Une chaine sur\n",
      "\n",
      "plusieurs lignes\n",
      "α = 1/137.03\n",
      "0.0072992700729927005\n"
     ]
    },
    {
     "data": {
      "text/plain": [
       "'La valeur de pi est 3.142 et celle de e est 2.718281828459045.'"
      ]
     },
     "execution_count": 41,
     "metadata": {},
     "output_type": "execute_result"
    }
   ],
   "source": [
    "'Bonjour'\n",
    "\"Bonjour\"\n",
    "s = \"\"\"Une chaine sur\n",
    "\n",
    "plusieurs lignes\"\"\"\n",
    "print(s)\n",
    "\n",
    "# Unicode\n",
    "s = \"α = 1/137.03\"\n",
    "print(s)\n",
    "\n",
    "chr(0x210F)\n",
    "\n",
    "ord('É')\n",
    "\n",
    "α = 1/137.\n",
    "\n",
    "print(α)\n",
    "\n",
    "# \n",
    "s = \"Bonjour\"\n",
    "s.upper()\n",
    "\n",
    "s.count('o')\n",
    "\n",
    "s.replace('o', 'a')\n",
    "\n",
    "from math import pi, e\n",
    "\n",
    "s = 'La valeur de pi est {var1:.3f} et celle de e est {var2}.'\n",
    "s.format(var2=e, var1=pi)"
   ]
  },
  {
   "cell_type": "markdown",
   "metadata": {
    "slideshow": {
     "slide_type": "slide"
    }
   },
   "source": [
    "\n",
    "# Les listes\n",
    "- création\n",
    "- modification\n",
    "- les boucles (enumerate et zip)\n",
    "- les list comprehension"
   ]
  },
  {
   "cell_type": "code",
   "execution_count": 52,
   "metadata": {
    "slideshow": {
     "slide_type": "fragment"
    }
   },
   "outputs": [
    {
     "name": "stdout",
     "output_type": "stream",
     "text": [
      "3\n",
      "5\n",
      "10\n",
      "Pierre 12\n",
      "Jacques 14\n",
      "Martin 78\n"
     ]
    }
   ],
   "source": [
    "l = []\n",
    "l.append(3)\n",
    "ll = l\n",
    "ll.append(5)\n",
    "l.append(10)\n",
    "#s.upper()\n",
    "\n",
    "for elm in l:\n",
    "    print(elm)\n",
    "    \n",
    "l = ['Pierre', 123, [2, 4], print]\n",
    "l.append(l)\n",
    "l\n",
    "\n",
    "liste_nom = ['Pierre', 'Jacques', 'Martin']\n",
    "liste_age = [12, 14, 78]\n",
    "\n",
    "for nom, age in zip(liste_nom, liste_age):\n",
    "    print(nom, age)\n",
    "\n"
   ]
  },
  {
   "cell_type": "markdown",
   "metadata": {
    "slideshow": {
     "slide_type": "slide"
    }
   },
   "source": [
    "# Les n-uplets (tuple)\n",
    "- exemple d'utilisation\n",
    "- avantage par rapport aux listes"
   ]
  },
  {
   "cell_type": "code",
   "execution_count": 56,
   "metadata": {
    "slideshow": {
     "slide_type": "fragment"
    }
   },
   "outputs": [
    {
     "data": {
      "text/plain": [
       "2"
      ]
     },
     "execution_count": 56,
     "metadata": {},
     "output_type": "execute_result"
    }
   ],
   "source": [
    "a = (1, 2, 3)\n",
    "a\n",
    "\n",
    "def f():\n",
    "    return 1, 2\n",
    "f()\n",
    "\n",
    "a1, a2, a3 = a\n",
    "a2"
   ]
  },
  {
   "cell_type": "markdown",
   "metadata": {
    "slideshow": {
     "slide_type": "slide"
    }
   },
   "source": [
    "# Les dictionnaires\n",
    "- création\n",
    "- boucles"
   ]
  },
  {
   "cell_type": "code",
   "execution_count": null,
   "metadata": {
    "slideshow": {
     "slide_type": "fragment"
    }
   },
   "outputs": [],
   "source": [
    "personne = {'nom':'Pierre', 'age':98}\n",
    "personne['nom']\n",
    "\n",
    "notes = {'Pierre':13, 'Jacques':16, 'Martin':13}\n",
    "notes['Pierre']\n",
    "notes['Paul'] = 9\n",
    "\n",
    "for nom, note in notes.items():\n",
    "    print(nom, note)"
   ]
  },
  {
   "cell_type": "code",
   "execution_count": 84,
   "metadata": {},
   "outputs": [
    {
     "data": {
      "text/plain": [
       "{'Pierre': 67, 'Jacques': 16, 'Martin': 13}"
      ]
     },
     "execution_count": 84,
     "metadata": {},
     "output_type": "execute_result"
    }
   ],
   "source": [
    "notes = {'Pierre':13, 'Jacques':16, 'Martin':13, 'Pierre':45}\n",
    "notes['Pierre'] = 67\n",
    "notes\n"
   ]
  },
  {
   "cell_type": "markdown",
   "metadata": {
    "slideshow": {
     "slide_type": "slide"
    }
   },
   "source": [
    "# Les ensembles\n",
    "- création\n",
    "- operation sur les ensembles"
   ]
  },
  {
   "cell_type": "code",
   "execution_count": 67,
   "metadata": {
    "slideshow": {
     "slide_type": "fragment"
    }
   },
   "outputs": [
    {
     "name": "stdout",
     "output_type": "stream",
     "text": [
      "  3\n",
      "m 1\n",
      "u 1\n",
      "b 1\n",
      "a 1\n",
      "r 2\n",
      "l 2\n",
      "e 5\n",
      "o 2\n",
      "t 1\n",
      "s 4\n",
      "n 2\n",
      "p 1\n",
      "i 1\n"
     ]
    }
   ],
   "source": [
    "ens1 = {1, 2, 4}\n",
    "ens2 = {2, 3, 5}\n",
    "ens1 | ens2\n",
    "\n",
    "ens1 - ens2\n",
    "\n",
    "s = 'operation sur les ensembles'\n",
    "set(s)\n",
    "for ch in set(s):\n",
    "    print(ch, s.count(ch))\n",
    "    "
   ]
  },
  {
   "cell_type": "markdown",
   "metadata": {
    "slideshow": {
     "slide_type": "slide"
    }
   },
   "source": [
    "# 2. Elements de syntaxe"
   ]
  },
  {
   "cell_type": "markdown",
   "metadata": {},
   "source": [
    "# Arguments optionels"
   ]
  },
  {
   "cell_type": "code",
   "execution_count": 68,
   "metadata": {},
   "outputs": [],
   "source": [
    "def f(a, b, c=1, d=2, *args, **kwd):\n",
    "    print(a, b, c, d)\n",
    "    print(args)\n",
    "    print(kwd)\n"
   ]
  },
  {
   "cell_type": "code",
   "execution_count": 76,
   "metadata": {},
   "outputs": [
    {
     "name": "stdout",
     "output_type": "stream",
     "text": [
      "1 2 4 2\n",
      "()\n",
      "{}\n",
      "1 2 3 4\n",
      "(5, 6)\n",
      "{}\n",
      "1 2 1 34\n",
      "()\n",
      "{}\n",
      "4 2 1 45\n",
      "()\n",
      "{}\n"
     ]
    }
   ],
   "source": [
    "f(1, 2, 4)\n",
    "f(1, 2, 3, 4, 5, 6)\n",
    "f(1, 2, d=34)\n",
    "f(b=2, a=4, d=45)\n",
    "#f(1, 2, 3, e=4)\n",
    "\n",
    "#from scipy.optimize import curve_fit\n",
    "#curve_fit?"
   ]
  },
  {
   "cell_type": "code",
   "execution_count": 82,
   "metadata": {},
   "outputs": [
    {
     "name": "stdout",
     "output_type": "stream",
     "text": [
      "4 2 1 45\n",
      "()\n",
      "{'ppoizer': 46}\n",
      "1 2 1 2\n",
      "()\n",
      "{}\n"
     ]
    }
   ],
   "source": [
    "param = {'b':2, 'd':45, 'ppoizer':46, 'a':4}\n",
    "f(**param)\n",
    "arg = (1, 2)\n",
    "f(*arg)"
   ]
  },
  {
   "cell_type": "code",
   "execution_count": 81,
   "metadata": {},
   "outputs": [
    {
     "name": "stdout",
     "output_type": "stream",
     "text": [
      "0 1 2 3\n",
      "()\n",
      "{'dk': 3, 'e': 4}\n"
     ]
    }
   ],
   "source": [
    "liste = list([1, 2, 3])\n",
    "dct = {'dk':3, 'e':4}\n",
    "f(0, *liste, **dct)"
   ]
  },
  {
   "cell_type": "markdown",
   "metadata": {},
   "source": [
    "# Fonction lambda"
   ]
  },
  {
   "cell_type": "code",
   "execution_count": 93,
   "metadata": {},
   "outputs": [
    {
     "data": {
      "text/plain": [
       "1156"
      ]
     },
     "execution_count": 93,
     "metadata": {},
     "output_type": "execute_result"
    }
   ],
   "source": [
    "def f(x):\n",
    "    return x**2\n",
    "\n",
    "f = lambda x:x**2\n",
    "f(3)\n",
    "(lambda x:x**2)(34)\n",
    "\n",
    "def valeur_en_34(f):\n",
    "    return f(34)\n",
    "valeur_en_34(lambda x:x**2)"
   ]
  },
  {
   "cell_type": "markdown",
   "metadata": {},
   "source": [
    "# Exemple : fonction quad de scipy"
   ]
  },
  {
   "cell_type": "code",
   "execution_count": 96,
   "metadata": {},
   "outputs": [
    {
     "data": {
      "text/plain": [
       "0.7853981633974484"
      ]
     },
     "execution_count": 96,
     "metadata": {},
     "output_type": "execute_result"
    }
   ],
   "source": [
    "from scipy.integrate import quad\n",
    "quad(lambda x:1/(1+x**2), 0, 1)[0]"
   ]
  },
  {
   "cell_type": "code",
   "execution_count": 98,
   "metadata": {},
   "outputs": [
    {
     "data": {
      "text/plain": [
       "(7.676037193902177, 4.228065270892943e-11)"
      ]
     },
     "execution_count": 98,
     "metadata": {},
     "output_type": "execute_result"
    }
   ],
   "source": [
    "def lorentzienne(x, sigma):\n",
    "    return 1/(1 + (x/sigma)**2)\n",
    "\n",
    "quad(lorentzienne, -10, 10, args=(3,))\n",
    "              \n",
    "              "
   ]
  },
  {
   "cell_type": "markdown",
   "metadata": {},
   "source": [
    "# Les boucles\n",
    "- Boucles for (liste, générateur). range en Pyhon 3\n",
    "- break, continue\n",
    "- else"
   ]
  },
  {
   "cell_type": "code",
   "execution_count": null,
   "metadata": {
    "collapsed": true
   },
   "outputs": [],
   "source": []
  },
  {
   "cell_type": "markdown",
   "metadata": {},
   "source": [
    "# 3. Quelques subtilités de Python"
   ]
  },
  {
   "cell_type": "markdown",
   "metadata": {},
   "source": [
    "## Assignation"
   ]
  },
  {
   "cell_type": "code",
   "execution_count": 103,
   "metadata": {},
   "outputs": [
    {
     "name": "stdout",
     "output_type": "stream",
     "text": [
      "[1, 4]\n"
     ]
    },
    {
     "data": {
      "text/plain": [
       "[1, 4, 10]"
      ]
     },
     "execution_count": 103,
     "metadata": {},
     "output_type": "execute_result"
    }
   ],
   "source": [
    "l = [1, 2]\n",
    "ll = l\n",
    "ll[1] = 4\n",
    "print(l)\n",
    "\n",
    "def f(l):\n",
    "    l.append(10)\n",
    "    \n",
    "f(l)\n",
    "del l\n",
    "ll"
   ]
  },
  {
   "cell_type": "markdown",
   "metadata": {},
   "source": [
    "## Variable locale / variable globale"
   ]
  },
  {
   "cell_type": "code",
   "execution_count": 107,
   "metadata": {},
   "outputs": [
    {
     "data": {
      "text/plain": [
       "0.9045084971874736"
      ]
     },
     "execution_count": 107,
     "metadata": {},
     "output_type": "execute_result"
    }
   ],
   "source": [
    "from math import sin, pi\n",
    "\n",
    "x = 13\n",
    "def ma_fonction(x):\n",
    "    y = 0.2\n",
    "    return sin(2*pi*(x+y))**2\n",
    "\n",
    "ma_fonction(0.1)"
   ]
  },
  {
   "cell_type": "code",
   "execution_count": 115,
   "metadata": {},
   "outputs": [
    {
     "name": "stdout",
     "output_type": "stream",
     "text": [
      "4\n"
     ]
    },
    {
     "data": {
      "text/plain": [
       "1"
      ]
     },
     "execution_count": 115,
     "metadata": {},
     "output_type": "execute_result"
    }
   ],
   "source": [
    "\n",
    "def exemple():\n",
    "    a = 4\n",
    "    print(a)\n",
    "a = 1    \n",
    "exemple()\n",
    "\n",
    "l = []\n",
    "def exemple():\n",
    "    l.append(2)\n",
    "exemple()\n",
    "l\n",
    "\n",
    "a = 1\n",
    "def exemple(x):\n",
    "    global a\n",
    "    a*x\n",
    "exemple(1)\n",
    "a"
   ]
  },
  {
   "cell_type": "code",
   "execution_count": 120,
   "metadata": {},
   "outputs": [
    {
     "data": {
      "text/plain": [
       "31.0"
      ]
     },
     "execution_count": 120,
     "metadata": {},
     "output_type": "execute_result"
    }
   ],
   "source": [
    "pi = 3.1415\n",
    "def ma_fonction(x, pi=pi):\n",
    "    return pi*x\n",
    "pi = 3.1\n",
    "ma_fonction(10, pi=3.1)"
   ]
  },
  {
   "cell_type": "markdown",
   "metadata": {},
   "source": [
    "# 4. Les erreurs\n",
    "- Soulever les erreurs\n",
    "- Tester les erreurs"
   ]
  },
  {
   "cell_type": "code",
   "execution_count": null,
   "metadata": {
    "collapsed": true
   },
   "outputs": [],
   "source": []
  },
  {
   "cell_type": "markdown",
   "metadata": {},
   "source": [
    "# 5. Créer des objets\n",
    "- Attributs\n",
    "- Méthodes\n",
    "- Méthodes speciales"
   ]
  },
  {
   "cell_type": "code",
   "execution_count": 159,
   "metadata": {},
   "outputs": [
    {
     "name": "stdout",
     "output_type": "stream",
     "text": [
      "1 + -2J\n",
      "1 - 2J\n"
     ]
    },
    {
     "data": {
      "text/plain": [
       "Complex(3, -2)"
      ]
     },
     "execution_count": 159,
     "metadata": {},
     "output_type": "execute_result"
    }
   ],
   "source": [
    "class Complex():\n",
    "    def __init__(self, partie_reelle, partie_imaginaire):\n",
    "        self.real = partie_reelle\n",
    "        self.ima = partie_imaginaire\n",
    "\n",
    "    def affiche(self):\n",
    "        print('{} + {}J'.format(self.real, self.ima))\n",
    "\n",
    "    def __str__(self):\n",
    "        if self.ima>0:\n",
    "            return '{} + {}J'.format(self.real, self.ima)\n",
    "        else:\n",
    "            return '{} - {}J'.format(self.real, -self.ima)\n",
    "        \n",
    "    def __repr__(self):\n",
    "        return 'Complex({}, {})'.format(self.real, self.ima)\n",
    "    \n",
    "    def conj(self):\n",
    "        \"\"\" Renvoie le conjugué de self\"\"\"\n",
    "        return Complex(self.real, -self.ima)\n",
    "    \n",
    "    def __add__(self, other):\n",
    "        if isinstance(other, (int, float)):\n",
    "            other = Complex(other, 0)\n",
    "        if isinstance(other, Complex):\n",
    "            return Complex(self.real + other.real, \n",
    "                           self.ima + other.ima)\n",
    "        return NotImplemented\n",
    "    \n",
    "    def __radd__(self, other):\n",
    "        return self + other\n",
    "    \n",
    "    \n",
    "    def __neg__(self):\n",
    "        return 0 - self\n",
    "    \n",
    "    # __mul__, __sub__, __truediv__, __pow__, __neg__\n",
    "    \n",
    "        \n",
    "class ImaginairePur(Complex):\n",
    "    def __init__(self, partie_imaginaire):\n",
    "        self.real = 0\n",
    "        self.ima = partie_imaginaire\n",
    "\n",
    "    def __repr__(self):\n",
    "        return 'ImaginairePur({})'.format(self.ima)\n",
    "        \n",
    "    \n",
    "z = Complex(1, -2)\n",
    "z.affiche()\n",
    "\n",
    "print(z)\n",
    "repr(z)\n",
    "\n",
    "z = ImaginairePur(3)\n",
    "z.conj()\n",
    "\n",
    "z1 = Complex(1, -2)\n",
    "z2 = Complex(2, 4)\n",
    "z1 + z2 # z1.__add__(z2)\n",
    "z1 + 2.8\n",
    "\n",
    "2 + z1"
   ]
  },
  {
   "cell_type": "code",
   "execution_count": null,
   "metadata": {},
   "outputs": [],
   "source": []
  },
  {
   "cell_type": "markdown",
   "metadata": {
    "collapsed": true
   },
   "source": [
    "## Les décorateurs\n",
    "\n",
    " * vectorize"
   ]
  },
  {
   "cell_type": "code",
   "execution_count": null,
   "metadata": {
    "collapsed": true
   },
   "outputs": [],
   "source": []
  },
  {
   "cell_type": "markdown",
   "metadata": {},
   "source": [
    "## Exemples d'objets\n",
    "\n",
    "* Partition de musique. Pour simplifier, suite de son définie par hauteur, durée, intensité.\n",
    "* Arbre : généalogique, livre, équation symbolique. Exemple de méthode : parentée, ascendance"
   ]
  },
  {
   "cell_type": "code",
   "execution_count": null,
   "metadata": {
    "collapsed": true
   },
   "outputs": [],
   "source": []
  }
 ],
 "metadata": {
  "kernelspec": {
   "display_name": "Python 3",
   "language": "python",
   "name": "python3"
  },
  "language_info": {
   "codemirror_mode": {
    "name": "ipython",
    "version": 3
   },
   "file_extension": ".py",
   "mimetype": "text/x-python",
   "name": "python",
   "nbconvert_exporter": "python",
   "pygments_lexer": "ipython3",
   "version": "3.6.5"
  }
 },
 "nbformat": 4,
 "nbformat_minor": 1
}
