{
 "cells": [
  {
   "cell_type": "code",
   "execution_count": 46,
   "metadata": {},
   "outputs": [],
   "source": [
    "import threading\n",
    "from time import sleep, time"
   ]
  },
  {
   "cell_type": "code",
   "execution_count": 34,
   "metadata": {},
   "outputs": [],
   "source": [
    "class MyThread(threading.Thread):\n",
    "    continue_to_run = True\n",
    "    def run(self):\n",
    "        while self.continue_to_run:\n",
    "            print('Bonjour')\n",
    "            sleep(10)\n",
    "        "
   ]
  },
  {
   "cell_type": "code",
   "execution_count": 35,
   "metadata": {},
   "outputs": [
    {
     "name": "stdout",
     "output_type": "stream",
     "text": [
      "Bonjour\n"
     ]
    }
   ],
   "source": [
    "my_thread = MyThread()\n",
    "my_thread.start()\n"
   ]
  },
  {
   "cell_type": "code",
   "execution_count": 36,
   "metadata": {},
   "outputs": [
    {
     "name": "stdout",
     "output_type": "stream",
     "text": [
      "True\n",
      "COUCOU\n"
     ]
    }
   ],
   "source": [
    "print(my_thread.is_alive())\n",
    "\n",
    "my_thread.continue_to_run = False\n",
    "\n",
    "my_thread.join()\n",
    "print(\"COUCOU\")"
   ]
  },
  {
   "cell_type": "code",
   "execution_count": 39,
   "metadata": {},
   "outputs": [],
   "source": [
    "import numpy as np"
   ]
  },
  {
   "cell_type": "code",
   "execution_count": 45,
   "metadata": {},
   "outputs": [
    {
     "name": "stdout",
     "output_type": "stream",
     "text": [
      "Bonjour 6\n",
      "Bonjour 5\n",
      "Bonjour 9\n",
      "Bonjour 1\n",
      "Bonjour 0\n",
      "0\n",
      "1\n",
      "Bonjour 4\n",
      "Bonjour 8\n",
      "Bonjour 3\n",
      "Bonjour 2\n",
      "2\n",
      "3\n",
      "4\n",
      "5\n",
      "6\n",
      "Bonjour 7\n",
      "7\n",
      "8\n",
      "9\n"
     ]
    }
   ],
   "source": [
    "class MyThread(threading.Thread):\n",
    "    def __init__(self, numero):\n",
    "        self.numero = numero\n",
    "        threading.Thread.__init__(self)\n",
    "    \n",
    "    continue_to_run = True\n",
    "    def run(self):\n",
    "        sleep(np.random.rand())\n",
    "        print('Bonjour', self.numero)\n",
    "        self.value = self.numero\n",
    "\n",
    "    \n",
    "list_of_thread = [MyThread(i) for i in range(10)]\n",
    "for thread in list_of_thread:\n",
    "    thread.start()\n",
    "\n",
    "for thread in list_of_thread:\n",
    "    thread.join()\n",
    "    print(thread.value)\n"
   ]
  },
  {
   "cell_type": "code",
   "execution_count": 52,
   "metadata": {},
   "outputs": [
    {
     "name": "stdout",
     "output_type": "stream",
     "text": [
      "1.9073486328125e-06\n",
      "0.1004490852355957\n",
      "0.20076775550842285\n",
      "0.3010215759277344\n",
      "0.40133023262023926\n",
      "0.501643180847168\n",
      "0.6019494533538818\n",
      "0.7022690773010254\n",
      "0.8025856018066406\n",
      "0.9029273986816406\n",
      "1.003246545791626\n",
      "1.1035516262054443\n",
      "1.2038555145263672\n",
      "1.3041348457336426\n",
      "1.4043807983398438\n",
      "1.5046868324279785\n",
      "1.6050083637237549\n",
      "1.7053172588348389\n",
      "1.8055944442749023\n",
      "1.9059126377105713\n",
      "2.0061330795288086\n",
      "2.106491804122925\n",
      "2.2068874835968018\n",
      "2.307161808013916\n",
      "2.407456874847412\n",
      "2.5077176094055176\n",
      "2.6079416275024414\n",
      "2.708174467086792\n",
      "2.8084394931793213\n",
      "2.9087233543395996\n"
     ]
    }
   ],
   "source": [
    "class ChronoThread(threading.Thread):\n",
    "    continue_to_run = True\n",
    "    def run(self):\n",
    "        t0 = time()\n",
    "        while self.continue_to_run:            \n",
    "            print(time() - t0)\n",
    "            sleep(.1)\n",
    "\n",
    "my_thread = ChronoThread()\n",
    "my_thread.start()\n",
    "           \n",
    "sleep(3)\n",
    "my_thread.continue_to_run = False\n",
    "my_thread.join()!"
   ]
  },
  {
   "cell_type": "code",
   "execution_count": 49,
   "metadata": {},
   "outputs": [
    {
     "data": {
      "text/plain": [
       "49.99602549315419"
      ]
     },
     "execution_count": 49,
     "metadata": {},
     "output_type": "execute_result"
    }
   ],
   "source": [
    "time()/3600/24/365"
   ]
  },
  {
   "cell_type": "markdown",
   "metadata": {},
   "source": [
    "!pip install --user pyqtgraph"
   ]
  },
  {
   "cell_type": "code",
   "execution_count": 57,
   "metadata": {},
   "outputs": [
    {
     "data": {
      "text/plain": [
       "True"
      ]
     },
     "execution_count": 57,
     "metadata": {},
     "output_type": "execute_result"
    }
   ],
   "source": [
    "a = \"Bonjour\"\n",
    "a.lower()=='bonjour'.lower()"
   ]
  },
  {
   "cell_type": "code",
   "execution_count": null,
   "metadata": {},
   "outputs": [],
   "source": []
  }
 ],
 "metadata": {
  "kernelspec": {
   "display_name": "Python 3",
   "language": "python",
   "name": "python3"
  },
  "language_info": {
   "codemirror_mode": {
    "name": "ipython",
    "version": 3
   },
   "file_extension": ".py",
   "mimetype": "text/x-python",
   "name": "python",
   "nbconvert_exporter": "python",
   "pygments_lexer": "ipython3",
   "version": "3.6.5"
  }
 },
 "nbformat": 4,
 "nbformat_minor": 2
}
