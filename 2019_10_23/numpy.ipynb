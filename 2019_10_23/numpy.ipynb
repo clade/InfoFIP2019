{
 "cells": [
  {
   "cell_type": "code",
   "execution_count": 1,
   "metadata": {},
   "outputs": [],
   "source": [
    "from numpy import *\n",
    "import numpy as np"
   ]
  },
  {
   "cell_type": "code",
   "execution_count": 7,
   "metadata": {},
   "outputs": [
    {
     "data": {
      "text/plain": [
       "array([0.84147098, 0.90929743, 0.14112001])"
      ]
     },
     "execution_count": 7,
     "metadata": {},
     "output_type": "execute_result"
    }
   ],
   "source": [
    "# Examples\n",
    "a = np.array([1, 2, 3])\n",
    "a**2\n",
    "\n",
    "np.arange(10)\n",
    "\n",
    "np.sin(a)"
   ]
  },
  {
   "cell_type": "code",
   "execution_count": 11,
   "metadata": {},
   "outputs": [],
   "source": [
    "# Il ne faut pas utiliser le module math avec des tableaux numpy\n",
    "import math\n",
    "\n",
    "# a = np.array([1, 2, 3])\n",
    "# math.sin(a)"
   ]
  },
  {
   "cell_type": "code",
   "execution_count": 12,
   "metadata": {},
   "outputs": [
    {
     "name": "stdout",
     "output_type": "stream",
     "text": [
      "426 µs ± 10.9 µs per loop (mean ± std. dev. of 7 runs, 1000 loops each)\n",
      "222 ms ± 1.9 ms per loop (mean ± std. dev. of 7 runs, 1 loop each)\n"
     ]
    }
   ],
   "source": [
    "# Comparaison de la vitesse entre une liste et un tableau \n",
    "a = np.random.rand(1000000)\n",
    "\n",
    "%timeit a**2\n",
    "\n",
    "def carre(x):\n",
    "    return [elm**2 for elm in x]\n",
    "b = list(a)\n",
    "\n",
    "%timeit carre(b)"
   ]
  },
  {
   "cell_type": "markdown",
   "metadata": {},
   "source": [
    "# Avantages (et inconvénients) des tableaux\n"
   ]
  },
  {
   "cell_type": "code",
   "execution_count": 21,
   "metadata": {},
   "outputs": [
    {
     "ename": "TypeError",
     "evalue": "can't convert complex to float",
     "output_type": "error",
     "traceback": [
      "\u001b[0;31m---------------------------------------------------------------------------\u001b[0m",
      "\u001b[0;31mTypeError\u001b[0m                                 Traceback (most recent call last)",
      "\u001b[0;32m<ipython-input-21-5836cb2e7c96>\u001b[0m in \u001b[0;36m<module>\u001b[0;34m()\u001b[0m\n\u001b[1;32m      5\u001b[0m \u001b[0;34m\u001b[0m\u001b[0m\n\u001b[1;32m      6\u001b[0m \u001b[0ma\u001b[0m \u001b[0;34m=\u001b[0m \u001b[0mnp\u001b[0m\u001b[0;34m.\u001b[0m\u001b[0marray\u001b[0m\u001b[0;34m(\u001b[0m\u001b[0;34m[\u001b[0m\u001b[0;36m1.2\u001b[0m\u001b[0;34m,\u001b[0m \u001b[0;36m2\u001b[0m\u001b[0;34m,\u001b[0m \u001b[0;36m3\u001b[0m\u001b[0;34m]\u001b[0m\u001b[0;34m)\u001b[0m\u001b[0;34m\u001b[0m\u001b[0m\n\u001b[0;32m----> 7\u001b[0;31m \u001b[0ma\u001b[0m\u001b[0;34m[\u001b[0m\u001b[0;36m2\u001b[0m\u001b[0;34m]\u001b[0m \u001b[0;34m=\u001b[0m \u001b[0;36m7J\u001b[0m\u001b[0;34m\u001b[0m\u001b[0m\n\u001b[0m",
      "\u001b[0;31mTypeError\u001b[0m: can't convert complex to float"
     ]
    }
   ],
   "source": [
    "# ATTENTION\n",
    "a = np.array([1, 2, 3])\n",
    "a[2] = 7.1\n",
    "a\n",
    "\n",
    "a = np.array([1.2, 2, 3])\n",
    "a[2] = 7J"
   ]
  },
  {
   "cell_type": "markdown",
   "metadata": {},
   "source": [
    "# Création d'un tableau\n",
    "Il existe plusieurs fonctions pour créer un tableau.\n",
    "\n",
    "* array :  partir d'une liste\n",
    "* zeros, ones, eye\n",
    "* arange\n",
    "* linspace, logspace\n",
    "* loadtxt\n",
    "* load/save\n",
    "\n",
    "Le type est déterminé automatiquement. On peut le forcer avec l'argument dtype"
   ]
  },
  {
   "cell_type": "code",
   "execution_count": 26,
   "metadata": {},
   "outputs": [
    {
     "data": {
      "text/plain": [
       "array([[1., 0., 0., 0., 0., 0., 0., 0., 0., 0.],\n",
       "       [0., 1., 0., 0., 0., 0., 0., 0., 0., 0.],\n",
       "       [0., 0., 1., 0., 0., 0., 0., 0., 0., 0.],\n",
       "       [0., 0., 0., 1., 0., 0., 0., 0., 0., 0.],\n",
       "       [0., 0., 0., 0., 1., 0., 0., 0., 0., 0.],\n",
       "       [0., 0., 0., 0., 0., 1., 0., 0., 0., 0.],\n",
       "       [0., 0., 0., 0., 0., 0., 1., 0., 0., 0.],\n",
       "       [0., 0., 0., 0., 0., 0., 0., 1., 0., 0.],\n",
       "       [0., 0., 0., 0., 0., 0., 0., 0., 1., 0.],\n",
       "       [0., 0., 0., 0., 0., 0., 0., 0., 0., 1.]])"
      ]
     },
     "execution_count": 26,
     "metadata": {},
     "output_type": "execute_result"
    }
   ],
   "source": [
    "zeros(10, dtype=complex)\n",
    "ones(10, dtype=complex)\n",
    "eye(10)"
   ]
  },
  {
   "cell_type": "code",
   "execution_count": 30,
   "metadata": {},
   "outputs": [
    {
     "data": {
      "text/plain": [
       "array([0. , 0.1, 0.2, 0.3, 0.4, 0.5, 0.6, 0.7, 0.8, 0.9])"
      ]
     },
     "execution_count": 30,
     "metadata": {},
     "output_type": "execute_result"
    }
   ],
   "source": [
    "linspace(0, 1, 10, endpoint=False)\n"
   ]
  },
  {
   "cell_type": "code",
   "execution_count": 33,
   "metadata": {},
   "outputs": [
    {
     "data": {
      "text/plain": [
       "1.5309946433470316"
      ]
     },
     "execution_count": 33,
     "metadata": {},
     "output_type": "execute_result"
    }
   ],
   "source": [
    "# Attention pour linspace\n",
    "# Si on veut contrôler delta_x, c'est mieux ainsi\n",
    "N = 1000\n",
    "a = 1\n",
    "b = 3\n",
    "delta_x = (b-a)/N\n",
    "x = np.arange(N)*delta_x + a\n",
    "np.sum(sin(x))*delta_x"
   ]
  },
  {
   "cell_type": "code",
   "execution_count": 34,
   "metadata": {},
   "outputs": [
    {
     "data": {
      "text/plain": [
       "array([   10.        ,    11.51395399,    13.25711366,    15.26417967,\n",
       "          17.57510625,    20.23589648,    23.29951811,    26.82695795,\n",
       "          30.88843596,    35.56480306,    40.94915062,    47.14866363,\n",
       "          54.28675439,    62.50551925,    71.9685673 ,    82.86427729,\n",
       "          95.40954763,   109.8541142 ,   126.48552169,   145.63484775,\n",
       "         167.68329368,   193.06977289,   222.29964825,   255.95479227,\n",
       "         294.70517026,   339.32217719,   390.69399371,   449.8432669 ,\n",
       "         517.94746792,   596.36233166,   686.648845  ,   790.60432109,\n",
       "         910.29817799,  1048.11313415,  1206.79264064,  1389.49549437,\n",
       "        1599.85871961,  1842.06996933,  2120.95088792,  2442.05309455,\n",
       "        2811.76869797,  3237.45754282,  3727.59372031,  4291.93426013,\n",
       "        4941.71336132,  5689.86602902,  6551.2855686 ,  7543.12006335,\n",
       "        8685.11373751, 10000.        ])"
      ]
     },
     "execution_count": 34,
     "metadata": {},
     "output_type": "execute_result"
    }
   ],
   "source": [
    "logspace(1, 4)"
   ]
  },
  {
   "cell_type": "code",
   "execution_count": 36,
   "metadata": {},
   "outputs": [],
   "source": [
    "data = loadtxt('data.txt')"
   ]
  },
  {
   "cell_type": "code",
   "execution_count": 38,
   "metadata": {},
   "outputs": [],
   "source": [
    "save('data.npy', data)"
   ]
  },
  {
   "cell_type": "code",
   "execution_count": 41,
   "metadata": {},
   "outputs": [
    {
     "data": {
      "text/plain": [
       "b\"\\x93NUMPY\\x01\\x00v\\x00{'descr': '<f8', 'fortran_order': False, 'shape': (3,), }                                                            \\n\\xcd\\xcc\\xcc\\xcc\\xcc\\xdc^@\\xcd\\xcc\\xcc\\xcc\\xcc\\xacO@\\xaa>?\\xd8\\xa0\\x08\\xc4K\""
      ]
     },
     "execution_count": 41,
     "metadata": {},
     "output_type": "execute_result"
    }
   ],
   "source": [
    "open('data.npy', 'rb').read()"
   ]
  },
  {
   "cell_type": "code",
   "execution_count": 43,
   "metadata": {},
   "outputs": [],
   "source": [
    "save('test.npy', np.linspace(0, 1, 1000000))\n",
    "savetxt('test.txt', np.linspace(0, 1, 1000000))"
   ]
  },
  {
   "cell_type": "code",
   "execution_count": 44,
   "metadata": {},
   "outputs": [
    {
     "name": "stdout",
     "output_type": "stream",
     "text": [
      "1.11 ms ± 9.27 µs per loop (mean ± std. dev. of 7 runs, 1000 loops each)\n",
      "2.84 s ± 27.1 ms per loop (mean ± std. dev. of 7 runs, 1 loop each)\n"
     ]
    }
   ],
   "source": [
    "%timeit load('test.npy')\n",
    "%timeit loadtxt('test.txt')"
   ]
  },
  {
   "cell_type": "code",
   "execution_count": 45,
   "metadata": {},
   "outputs": [],
   "source": [
    "loadtxt?"
   ]
  },
  {
   "cell_type": "markdown",
   "metadata": {},
   "source": [
    "# Fonctions vectorisées\n",
    "C'est une fonction qui calcul sur un tableau élément par élément"
   ]
  },
  {
   "cell_type": "code",
   "execution_count": 46,
   "metadata": {},
   "outputs": [],
   "source": [
    "x = linspace(-1, 1, 51, endpoint=False)*pi"
   ]
  },
  {
   "cell_type": "code",
   "execution_count": 50,
   "metadata": {},
   "outputs": [
    {
     "data": {
      "text/plain": [
       "array([1., 1., 1., 1., 1., 1., 1., 1., 1., 1., 1., 1., 1., 1., 1., 1., 1.,\n",
       "       1., 1., 1., 1., 1., 1., 1., 1., 1., 1., 1., 1., 1., 1., 1., 1., 1.,\n",
       "       1., 1., 1., 1., 1., 1., 1., 1., 1., 1., 1., 1., 1., 1., 1., 1., 1.])"
      ]
     },
     "execution_count": 50,
     "metadata": {},
     "output_type": "execute_result"
    }
   ],
   "source": [
    "# Souvent il n'y a rien a faire\n",
    "def f(x):\n",
    "    return sin(x)**2 + cos(x)**2\n",
    "\n",
    "f(x)"
   ]
  },
  {
   "cell_type": "code",
   "execution_count": 51,
   "metadata": {},
   "outputs": [
    {
     "data": {
      "text/plain": [
       "array([3.14159265, 3.01839294, 2.89519323, 2.77199352, 2.64879381,\n",
       "       2.52559409, 2.40239438, 2.27919467, 2.15599496, 2.03279525,\n",
       "       1.90959553, 1.78639582, 1.66319611, 1.5399964 , 1.41679669,\n",
       "       1.29359698, 1.17039726, 1.04719755, 0.92399784, 0.80079813,\n",
       "       0.67759842, 0.5543987 , 0.43119899, 0.30799928, 0.18479957,\n",
       "       0.06159986, 0.06159986, 0.18479957, 0.30799928, 0.43119899,\n",
       "       0.5543987 , 0.67759842, 0.80079813, 0.92399784, 1.04719755,\n",
       "       1.17039726, 1.29359698, 1.41679669, 1.5399964 , 1.66319611,\n",
       "       1.78639582, 1.90959553, 2.03279525, 2.15599496, 2.27919467,\n",
       "       2.40239438, 2.52559409, 2.64879381, 2.77199352, 2.89519323,\n",
       "       3.01839294])"
      ]
     },
     "execution_count": 51,
     "metadata": {},
     "output_type": "execute_result"
    }
   ],
   "source": [
    "# Sinon, on utiliser le décorateur vectorize\n",
    "# Mais il existe des solutions pour éviter d'avoir à \n",
    "# l'utiliser (c.f. prochaine partie)\n",
    "@vectorize\n",
    "def mafonction(a):\n",
    "    if a>0:\n",
    "        return a\n",
    "    else:\n",
    "        return -a\n",
    "    \n",
    "mafonction(x)"
   ]
  },
  {
   "cell_type": "code",
   "execution_count": 53,
   "metadata": {},
   "outputs": [
    {
     "name": "stdout",
     "output_type": "stream",
     "text": [
      "185 ms ± 1.06 ms per loop (mean ± std. dev. of 7 runs, 1 loop each)\n",
      "408 µs ± 5.21 µs per loop (mean ± std. dev. of 7 runs, 1000 loops each)\n"
     ]
    }
   ],
   "source": [
    "x = linspace(-1, 1, 1000000, endpoint=False)*pi\n",
    "%timeit mafonction(x)\n",
    "\n",
    "%timeit np.abs(x)"
   ]
  },
  {
   "cell_type": "code",
   "execution_count": 55,
   "metadata": {},
   "outputs": [
    {
     "data": {
      "text/plain": [
       "array([False, False, False, False, False, False, False, False, False,\n",
       "       False, False, False, False, False, False, False, False, False,\n",
       "       False, False, False, False, False, False, False, False,  True,\n",
       "        True,  True,  True,  True,  True,  True,  True,  True,  True,\n",
       "        True,  True,  True,  True,  True,  True,  True,  True,  True,\n",
       "        True,  True,  True,  True,  True,  True])"
      ]
     },
     "execution_count": 55,
     "metadata": {},
     "output_type": "execute_result"
    }
   ],
   "source": [
    "x = linspace(-1, 1, 51, endpoint=False)*pi\n",
    "x>0"
   ]
  },
  {
   "cell_type": "code",
   "execution_count": 54,
   "metadata": {},
   "outputs": [
    {
     "ename": "ValueError",
     "evalue": "The truth value of an array with more than one element is ambiguous. Use a.any() or a.all()",
     "output_type": "error",
     "traceback": [
      "\u001b[0;31m---------------------------------------------------------------------------\u001b[0m",
      "\u001b[0;31mValueError\u001b[0m                                Traceback (most recent call last)",
      "\u001b[0;32m<ipython-input-54-1b3c8ee31ca4>\u001b[0m in \u001b[0;36m<module>\u001b[0;34m()\u001b[0m\n\u001b[1;32m      1\u001b[0m \u001b[0;31m# Il faut connaitre l'origine de cette erreur\u001b[0m\u001b[0;34m\u001b[0m\u001b[0;34m\u001b[0m\u001b[0m\n\u001b[0;32m----> 2\u001b[0;31m \u001b[0;32mif\u001b[0m \u001b[0mx\u001b[0m\u001b[0;34m>\u001b[0m\u001b[0;36m0\u001b[0m\u001b[0;34m:\u001b[0m\u001b[0;34m\u001b[0m\u001b[0m\n\u001b[0m\u001b[1;32m      3\u001b[0m     \u001b[0;32mpass\u001b[0m\u001b[0;34m\u001b[0m\u001b[0m\n",
      "\u001b[0;31mValueError\u001b[0m: The truth value of an array with more than one element is ambiguous. Use a.any() or a.all()"
     ]
    }
   ],
   "source": [
    "# Il faut connaitre l'origine de cette erreur\n",
    "if x>0:\n",
    "    pass"
   ]
  },
  {
   "cell_type": "code",
   "execution_count": 58,
   "metadata": {},
   "outputs": [
    {
     "data": {
      "text/plain": [
       "array([3.14159265, 3.01839294, 2.89519323, 2.77199352, 2.64879381,\n",
       "       2.52559409, 2.40239438, 2.27919467, 2.15599496, 2.03279525,\n",
       "       1.90959553, 1.78639582, 1.66319611, 1.5399964 , 1.41679669,\n",
       "       1.29359698, 1.17039726, 1.04719755, 0.92399784, 0.80079813,\n",
       "       0.67759842, 0.5543987 , 0.43119899, 0.30799928, 0.18479957,\n",
       "       0.06159986, 0.06159986, 0.18479957, 0.30799928, 0.43119899,\n",
       "       0.5543987 , 0.67759842, 0.80079813, 0.92399784, 1.04719755,\n",
       "       1.17039726, 1.29359698, 1.41679669, 1.5399964 , 1.66319611,\n",
       "       1.78639582, 1.90959553, 2.03279525, 2.15599496, 2.27919467,\n",
       "       2.40239438, 2.52559409, 2.64879381, 2.77199352, 2.89519323,\n",
       "       3.01839294])"
      ]
     },
     "execution_count": 58,
     "metadata": {},
     "output_type": "execute_result"
    }
   ],
   "source": [
    "np.where(x>0, x, -x)"
   ]
  },
  {
   "cell_type": "markdown",
   "metadata": {},
   "source": [
    "# Indexer un tableau"
   ]
  },
  {
   "cell_type": "code",
   "execution_count": 64,
   "metadata": {},
   "outputs": [
    {
     "data": {
      "text/plain": [
       "array([-3.01839294, -2.64879381, -2.27919467, -1.90959553, -1.5399964 ,\n",
       "       -1.17039726, -0.80079813, -0.43119899, -0.06159986,  0.30799928,\n",
       "        0.67759842,  1.04719755,  1.41679669,  1.78639582,  2.15599496,\n",
       "        2.52559409,  2.89519323])"
      ]
     },
     "execution_count": 64,
     "metadata": {},
     "output_type": "execute_result"
    }
   ],
   "source": [
    "x = linspace(-1, 1, 51, endpoint=False)*pi\n",
    "x[1:-1:3]\n",
    "# x[start:stop:step], comme range ou arange"
   ]
  },
  {
   "cell_type": "code",
   "execution_count": 65,
   "metadata": {},
   "outputs": [
    {
     "data": {
      "text/plain": [
       "array([-2.64879381, -2.40239438, -2.15599496])"
      ]
     },
     "execution_count": 65,
     "metadata": {},
     "output_type": "execute_result"
    }
   ],
   "source": [
    "# C'est un racourcis pour créer un slice\n",
    "x[4:10:2]\n",
    "x[slice(4, 10, 2)]"
   ]
  },
  {
   "cell_type": "code",
   "execution_count": 66,
   "metadata": {},
   "outputs": [
    {
     "data": {
      "text/plain": [
       "array([-3.14159265, -3.01839294, -2.89519323, -2.77199352, -2.64879381,\n",
       "       -2.52559409, -2.40239438, -2.27919467, -2.15599496, -2.03279525,\n",
       "       -1.90959553, -1.78639582, -1.66319611, -1.5399964 , -1.41679669,\n",
       "       -1.29359698, -1.17039726, -1.04719755, -0.92399784, -0.80079813,\n",
       "       -0.67759842, -0.5543987 , -0.43119899, -0.30799928, -0.18479957,\n",
       "       -0.06159986,  0.06159986,  0.18479957,  0.30799928,  0.43119899,\n",
       "        0.5543987 ,  0.67759842,  0.80079813,  0.92399784,  1.04719755,\n",
       "        1.17039726,  1.29359698,  1.41679669,  1.5399964 ,  1.66319611,\n",
       "        1.78639582,  1.90959553,  2.03279525,  2.15599496,  2.27919467,\n",
       "        2.40239438,  2.52559409,  2.64879381,  2.77199352,  2.89519323])"
      ]
     },
     "execution_count": 66,
     "metadata": {},
     "output_type": "execute_result"
    }
   ],
   "source": [
    "# tout sauf le dernier\n",
    "x[:-1]"
   ]
  },
  {
   "cell_type": "code",
   "execution_count": 67,
   "metadata": {},
   "outputs": [
    {
     "data": {
      "text/plain": [
       "array([2.89519323, 3.01839294])"
      ]
     },
     "execution_count": 67,
     "metadata": {},
     "output_type": "execute_result"
    }
   ],
   "source": [
    "# Les deux derniers\n",
    "x[-2:]"
   ]
  },
  {
   "cell_type": "code",
   "execution_count": 68,
   "metadata": {},
   "outputs": [
    {
     "data": {
      "text/plain": [
       "array([0.12319971, 0.12319971, 0.12319971, 0.12319971, 0.12319971,\n",
       "       0.12319971, 0.12319971, 0.12319971, 0.12319971, 0.12319971,\n",
       "       0.12319971, 0.12319971, 0.12319971, 0.12319971, 0.12319971,\n",
       "       0.12319971, 0.12319971, 0.12319971, 0.12319971, 0.12319971,\n",
       "       0.12319971, 0.12319971, 0.12319971, 0.12319971, 0.12319971,\n",
       "       0.12319971, 0.12319971, 0.12319971, 0.12319971, 0.12319971,\n",
       "       0.12319971, 0.12319971, 0.12319971, 0.12319971, 0.12319971,\n",
       "       0.12319971, 0.12319971, 0.12319971, 0.12319971, 0.12319971,\n",
       "       0.12319971, 0.12319971, 0.12319971, 0.12319971, 0.12319971,\n",
       "       0.12319971, 0.12319971, 0.12319971, 0.12319971, 0.12319971])"
      ]
     },
     "execution_count": 68,
     "metadata": {},
     "output_type": "execute_result"
    }
   ],
   "source": [
    "# La différence entre deux éléments consécutifs\n",
    "x[1:] - x[:-1]"
   ]
  },
  {
   "cell_type": "code",
   "execution_count": 70,
   "metadata": {},
   "outputs": [
    {
     "data": {
      "text/plain": [
       "[-3.018392941684311,\n",
       " -2.5255940940623827,\n",
       " -2.895193229778829,\n",
       " -0.8007981273856335]"
      ]
     },
     "execution_count": 70,
     "metadata": {},
     "output_type": "execute_result"
    }
   ],
   "source": [
    "# Indexer avec un tableau d'entier\n",
    "a = np.array([1, 5, 2, 19])\n",
    "x[a]\n",
    "# [x[a[i]] for i in range(len(a))]"
   ]
  },
  {
   "cell_type": "code",
   "execution_count": 72,
   "metadata": {},
   "outputs": [
    {
     "name": "stdout",
     "output_type": "stream",
     "text": [
      "[0.54884742 0.3181093  0.27501774 0.73902631 0.13390705 0.16144872\n",
      " 0.36282377 0.04113715 0.69277039 0.0012674 ]\n"
     ]
    },
    {
     "data": {
      "text/plain": [
       "array([9, 7, 4, 5, 2, 1, 6, 0, 8, 3])"
      ]
     },
     "execution_count": 72,
     "metadata": {},
     "output_type": "execute_result"
    }
   ],
   "source": [
    "# Par exemple : argsort\n",
    "# Les trois éléments les plus petits\n",
    "x = np.random.rand(10)\n",
    "print(x)\n",
    "x.argsort()"
   ]
  },
  {
   "cell_type": "code",
   "execution_count": 74,
   "metadata": {},
   "outputs": [
    {
     "data": {
      "text/plain": [
       "array([0.0012674 , 0.04113715, 0.13390705])"
      ]
     },
     "execution_count": 74,
     "metadata": {},
     "output_type": "execute_result"
    }
   ],
   "source": [
    "x[x.argsort()][:3]"
   ]
  },
  {
   "cell_type": "code",
   "execution_count": 76,
   "metadata": {},
   "outputs": [
    {
     "data": {
      "text/plain": [
       "array([1, 7])"
      ]
     },
     "execution_count": 76,
     "metadata": {},
     "output_type": "execute_result"
    }
   ],
   "source": [
    "# Avec un tableau de booléens\n",
    "x = np.array([1, 4, 7])\n",
    "mask = np.array([True, False, True])\n",
    "x[mask]"
   ]
  },
  {
   "cell_type": "code",
   "execution_count": 78,
   "metadata": {},
   "outputs": [
    {
     "data": {
      "text/plain": [
       "array([3.14159265, 3.01839294, 2.89519323, 2.77199352, 2.64879381,\n",
       "       2.52559409, 2.40239438, 2.27919467, 2.15599496, 2.03279525,\n",
       "       1.90959553, 1.78639582, 1.66319611, 1.5399964 , 1.41679669,\n",
       "       1.29359698, 1.17039726, 1.04719755, 0.92399784, 0.80079813,\n",
       "       0.67759842, 0.5543987 , 0.43119899, 0.30799928, 0.18479957,\n",
       "       0.06159986, 0.06159986, 0.18479957, 0.30799928, 0.43119899,\n",
       "       0.5543987 , 0.67759842, 0.80079813, 0.92399784, 1.04719755,\n",
       "       1.17039726, 1.29359698, 1.41679669, 1.5399964 , 1.66319611,\n",
       "       1.78639582, 1.90959553, 2.03279525, 2.15599496, 2.27919467,\n",
       "       2.40239438, 2.52559409, 2.64879381, 2.77199352, 2.89519323,\n",
       "       3.01839294])"
      ]
     },
     "execution_count": 78,
     "metadata": {},
     "output_type": "execute_result"
    }
   ],
   "source": [
    "x = linspace(-1, 1, 51, endpoint=False)*pi\n",
    "x[x<0] = -x[x<0]\n",
    "x"
   ]
  },
  {
   "cell_type": "markdown",
   "metadata": {},
   "source": [
    "# Tableau dans la mémoire\n",
    "* strides\n",
    "* from numpy.lib.stride_tricks import as_strided"
   ]
  },
  {
   "cell_type": "code",
   "execution_count": 79,
   "metadata": {},
   "outputs": [
    {
     "data": {
      "text/plain": [
       "[1]"
      ]
     },
     "execution_count": 79,
     "metadata": {},
     "output_type": "execute_result"
    }
   ],
   "source": [
    "a = []\n",
    "b = a\n",
    "b.append(1)\n",
    "a"
   ]
  },
  {
   "cell_type": "code",
   "execution_count": 81,
   "metadata": {},
   "outputs": [
    {
     "data": {
      "text/plain": [
       "array([10,  1,  2,  3,  4,  5,  6,  7,  8,  9])"
      ]
     },
     "execution_count": 81,
     "metadata": {},
     "output_type": "execute_result"
    }
   ],
   "source": [
    "a = np.arange(10)\n",
    "b = a[:3]\n",
    "b[0] = 10\n",
    "a"
   ]
  },
  {
   "cell_type": "code",
   "execution_count": 83,
   "metadata": {},
   "outputs": [
    {
     "data": {
      "text/plain": [
       "(10,)"
      ]
     },
     "execution_count": 83,
     "metadata": {},
     "output_type": "execute_result"
    }
   ],
   "source": [
    "a.shape"
   ]
  },
  {
   "cell_type": "code",
   "execution_count": 86,
   "metadata": {},
   "outputs": [
    {
     "data": {
      "text/plain": [
       "array([                  0, 4591870180066957722, 4596373779694328218,\n",
       "       4599075939470750516, 4600877379321698714, 4602678819172646912,\n",
       "       4603579539098121012, 4604480259023595111, 4605380978949069210,\n",
       "       4606281698874543309, 4607182418800017408])"
      ]
     },
     "execution_count": 86,
     "metadata": {},
     "output_type": "execute_result"
    }
   ],
   "source": [
    "a = np.linspace(0, 1, 11)\n",
    "a.dtype = int64\n",
    "a"
   ]
  },
  {
   "cell_type": "code",
   "execution_count": 87,
   "metadata": {},
   "outputs": [],
   "source": [
    "b = a[::2]"
   ]
  },
  {
   "cell_type": "code",
   "execution_count": 89,
   "metadata": {},
   "outputs": [
    {
     "data": {
      "text/plain": [
       "(16,)"
      ]
     },
     "execution_count": 89,
     "metadata": {},
     "output_type": "execute_result"
    }
   ],
   "source": [
    "b.strides"
   ]
  },
  {
   "cell_type": "code",
   "execution_count": 92,
   "metadata": {},
   "outputs": [
    {
     "data": {
      "text/plain": [
       "(24, 8)"
      ]
     },
     "execution_count": 92,
     "metadata": {},
     "output_type": "execute_result"
    }
   ],
   "source": [
    "a = zeros((4, 3))\n",
    "a.strides"
   ]
  },
  {
   "cell_type": "code",
   "execution_count": 100,
   "metadata": {},
   "outputs": [
    {
     "name": "stdout",
     "output_type": "stream",
     "text": [
      "[[0 1 2 3 4]\n",
      " [1 2 3 4 5]\n",
      " [2 3 4 5 6]\n",
      " [3 4 5 6 7]\n",
      " [4 5 6 7 8]\n",
      " [5 6 7 8 9]]\n"
     ]
    },
    {
     "data": {
      "text/plain": [
       "array([2., 3., 4., 5., 6., 7.])"
      ]
     },
     "execution_count": 100,
     "metadata": {},
     "output_type": "execute_result"
    }
   ],
   "source": [
    "from numpy.lib.stride_tricks import as_strided\n",
    "a = np.arange(10)\n",
    "b = as_strided(a, shape=((6, 5)), strides=(8, 8))\n",
    "print(b)\n",
    "b.mean(axis=1)"
   ]
  },
  {
   "cell_type": "markdown",
   "metadata": {},
   "source": [
    "# Modifier un tableau"
   ]
  },
  {
   "cell_type": "code",
   "execution_count": null,
   "metadata": {},
   "outputs": [],
   "source": [
    "x = random.rand(10)\n"
   ]
  },
  {
   "cell_type": "code",
   "execution_count": null,
   "metadata": {},
   "outputs": [],
   "source": [
    "x = random.rand(10)\n"
   ]
  },
  {
   "cell_type": "code",
   "execution_count": null,
   "metadata": {},
   "outputs": [],
   "source": [
    "x = random.rand(10)\n",
    "x[x>.5] = .5"
   ]
  },
  {
   "cell_type": "code",
   "execution_count": null,
   "metadata": {},
   "outputs": [],
   "source": []
  },
  {
   "cell_type": "code",
   "execution_count": null,
   "metadata": {},
   "outputs": [],
   "source": [
    "# Valeur absolue?\n"
   ]
  },
  {
   "cell_type": "markdown",
   "metadata": {},
   "source": [
    "# Tableaux nD"
   ]
  },
  {
   "cell_type": "code",
   "execution_count": 103,
   "metadata": {},
   "outputs": [
    {
     "data": {
      "text/plain": [
       "2"
      ]
     },
     "execution_count": 103,
     "metadata": {},
     "output_type": "execute_result"
    }
   ],
   "source": [
    "a = array([[1,2], [3, 4]])\n",
    "# l'index est un tuple\n",
    "a[0, 1]\n",
    "a[(0, 1)]"
   ]
  },
  {
   "cell_type": "code",
   "execution_count": 106,
   "metadata": {},
   "outputs": [
    {
     "data": {
      "text/plain": [
       "array([0.99354384, 0.50709081, 0.40567789, 0.22505617, 0.77510393])"
      ]
     },
     "execution_count": 106,
     "metadata": {},
     "output_type": "execute_result"
    }
   ],
   "source": [
    "x = random.rand(5, 5)\n",
    "# Récupérer une colonne\n",
    "x[:,0]"
   ]
  },
  {
   "cell_type": "code",
   "execution_count": 107,
   "metadata": {},
   "outputs": [
    {
     "data": {
      "text/plain": [
       "array([[0.52682327, 0.2084377 , 0.38585482, 0.0182256 , 0.39390772],\n",
       "       [0.93198385, 0.3979379 , 0.79036961, 0.44712876, 0.44304728],\n",
       "       [0.91647594, 0.98899087, 0.13835314, 0.96537821, 0.98326485],\n",
       "       [0.47176717, 0.75622538, 0.68354505, 0.43482501, 0.29712069],\n",
       "       [0.13260371, 0.3946025 , 0.40166721, 0.85857601, 0.63600896]])"
      ]
     },
     "execution_count": 107,
     "metadata": {},
     "output_type": "execute_result"
    }
   ],
   "source": [
    "# méthode reshape\n",
    "x = random.rand(25)\n",
    "x.reshape((5, 5))"
   ]
  },
  {
   "cell_type": "code",
   "execution_count": 108,
   "metadata": {},
   "outputs": [
    {
     "data": {
      "text/plain": [
       "(24, 8)"
      ]
     },
     "execution_count": 108,
     "metadata": {},
     "output_type": "execute_result"
    }
   ],
   "source": [
    "x = random.rand(5, 3)\n",
    "x.strides"
   ]
  },
  {
   "cell_type": "code",
   "execution_count": 109,
   "metadata": {},
   "outputs": [
    {
     "data": {
      "text/plain": [
       "array([  0,   1,   2,   3,   4, 100,   6,   7,   8,   9])"
      ]
     },
     "execution_count": 109,
     "metadata": {},
     "output_type": "execute_result"
    }
   ],
   "source": [
    "# Attention, numpy évite de recopier la memoire\n",
    "x = arange(10)\n",
    "b = x[1::2]\n",
    "b[2] = 100\n",
    "x"
   ]
  },
  {
   "cell_type": "code",
   "execution_count": 110,
   "metadata": {},
   "outputs": [
    {
     "data": {
      "text/plain": [
       "array([0, 1, 2, 3, 4, 5, 6, 7, 8, 9])"
      ]
     },
     "execution_count": 110,
     "metadata": {},
     "output_type": "execute_result"
    }
   ],
   "source": [
    "x = arange(10)\n",
    "b = x[x%2==0]\n",
    "b[2] = 100\n",
    "x"
   ]
  },
  {
   "cell_type": "code",
   "execution_count": 114,
   "metadata": {},
   "outputs": [
    {
     "name": "stdout",
     "output_type": "stream",
     "text": [
      "[[1 2 3]\n",
      " [1 2 3]\n",
      " [1 2 3]]\n",
      "[[7 7 7]\n",
      " [8 8 8]\n",
      " [9 9 9]]\n"
     ]
    }
   ],
   "source": [
    "# meshgrid\n",
    "a, b = meshgrid([1, 2, 3], [7, 8, 9])\n",
    "print(a)\n",
    "print(b)"
   ]
  },
  {
   "cell_type": "code",
   "execution_count": 116,
   "metadata": {},
   "outputs": [
    {
     "name": "stdout",
     "output_type": "stream",
     "text": [
      "Populating the interactive namespace from numpy and matplotlib\n"
     ]
    },
    {
     "name": "stderr",
     "output_type": "stream",
     "text": [
      "/home/pierre/sources/anaconda3/envs/enseignement/lib/python3.6/site-packages/IPython/core/magics/pylab.py:160: UserWarning: pylab import has clobbered these variables: ['f']\n",
      "`%matplotlib` prevents importing * from pylab and numpy\n",
      "  \"\\n`%matplotlib` prevents importing * from pylab and numpy\"\n"
     ]
    }
   ],
   "source": [
    "\n",
    "%pylab inline"
   ]
  },
  {
   "cell_type": "code",
   "execution_count": 117,
   "metadata": {},
   "outputs": [
    {
     "data": {
      "text/plain": [
       "<matplotlib.image.AxesImage at 0x7f1976714080>"
      ]
     },
     "execution_count": 117,
     "metadata": {},
     "output_type": "execute_result"
    },
    {
     "data": {
      "image/png": "[encoded data removed]",
      "text/plain": [
       "<Figure size 432x288 with 1 Axes>"
      ]
     },
     "metadata": {},
     "output_type": "display_data"
    }
   ],
   "source": [
    "\n",
    "# Création d'une image 2D avec meshgrid\n",
    "\n",
    "x = linspace(-.5, .5, 100)*4*pi\n",
    "y = linspace(-.5, .5, 100)*4*pi\n",
    "X, Y = meshgrid(x, y)\n",
    "R = sqrt(X**2 + Y**2)\n",
    "imshow((sin(Y)+cos(X))*exp(-R**2/30))"
   ]
  },
  {
   "cell_type": "markdown",
   "metadata": {},
   "source": [
    "# Broadcast"
   ]
  },
  {
   "cell_type": "code",
   "execution_count": 121,
   "metadata": {},
   "outputs": [
    {
     "name": "stdout",
     "output_type": "stream",
     "text": [
      "(1, 5)\n"
     ]
    },
    {
     "data": {
      "text/plain": [
       "array([[0.92874789, 0.99928113, 0.99495406, 0.59320801, 0.94042115],\n",
       "       [0.97127373, 0.20523655, 0.66387538, 0.83758507, 0.18480328],\n",
       "       [0.        , 1.        , 2.        , 3.        , 4.        ],\n",
       "       [0.        , 1.        , 2.        , 3.        , 4.        ],\n",
       "       [0.58038363, 0.18360571, 0.79472972, 0.01851453, 0.93105912]])"
      ]
     },
     "execution_count": 121,
     "metadata": {},
     "output_type": "execute_result"
    }
   ],
   "source": [
    "# Si sur une dimension la taille du tableau vaut 1, alors numpy peut l'étendre\n",
    "# pour qu'elle ait la même valeur que celle de l'autre tableau\n",
    "x = random.rand(5, 5)\n",
    "a = array([arange(5)])\n",
    "print(a.shape)\n",
    "x + a\n",
    "x[2:4, :] = a\n",
    "x"
   ]
  },
  {
   "cell_type": "code",
   "execution_count": 118,
   "metadata": {},
   "outputs": [
    {
     "data": {
      "text/plain": [
       "array([ 1,  2,  3,  4,  5,  6,  7,  8,  9, 10])"
      ]
     },
     "execution_count": 118,
     "metadata": {},
     "output_type": "execute_result"
    }
   ],
   "source": [
    "x = np.arange(10)\n",
    "x + 1"
   ]
  },
  {
   "cell_type": "code",
   "execution_count": 122,
   "metadata": {},
   "outputs": [
    {
     "data": {
      "text/plain": [
       "array([[0.33659407, 0.14415855, 0.2120748 , 0.9101024 , 0.28653792],\n",
       "       [0.01231557, 0.55846326, 0.9595955 , 0.68527341, 0.34719014],\n",
       "       [0.        , 1.        , 2.        , 3.        , 4.        ],\n",
       "       [0.        , 1.        , 2.        , 3.        , 4.        ],\n",
       "       [0.30734603, 0.29378768, 0.93172135, 0.40450542, 0.44829058]])"
      ]
     },
     "execution_count": 122,
     "metadata": {},
     "output_type": "execute_result"
    }
   ],
   "source": [
    "# Il y a une syntaxe simple pour rajouter une dimension de taille 1\n",
    "# C'est newaxis\n",
    "a = arange(5)\n",
    "b = a[np.newaxis, :]\n",
    "x = random.rand(5, 5)\n",
    "x[2:4, :] = b\n",
    "x"
   ]
  },
  {
   "cell_type": "code",
   "execution_count": 123,
   "metadata": {},
   "outputs": [
    {
     "name": "stdout",
     "output_type": "stream",
     "text": [
      "[[ 6.9861976   1.66874956  5.47450923  1.76198036 15.24951145]\n",
      " [ 9.82670768 16.53926247  4.03370009 10.00846543 12.45787648]\n",
      " [ 4.37991353  8.31873939  3.44580549 19.08573226 17.81067019]\n",
      " [ 1.55285286  4.62466209  1.86973751  9.00418331 15.07982796]\n",
      " [ 6.17803948  6.22691403 16.26522764 19.41950218  4.11769283]\n",
      " [ 7.33493738 12.74167655  0.48395714 12.25650806  5.84498684]\n",
      " [14.69081768  4.08369963  0.98034275 14.17391055  3.97960331]\n",
      " [ 1.21297965 17.52633006  5.19177721 11.44161688  4.42687064]\n",
      " [ 9.08112765  4.32419288 19.23497282 16.11220491  9.3179044 ]\n",
      " [15.36745837 16.52192155  3.01650156  2.85085734 16.10447335]]\n"
     ]
    }
   ],
   "source": [
    "# Exemple : calculer une moyenne pondérée \n",
    "# Chaque ligne est un élève, chaque colonne un examen\n",
    "notes = random.rand(10, 5)*20\n",
    "print(notes)\n",
    "coef = array([1, 4, 2, 5, 8])"
   ]
  },
  {
   "cell_type": "code",
   "execution_count": 127,
   "metadata": {},
   "outputs": [
    {
     "data": {
      "text/plain": [
       "array([ 7.77081039, 11.68782484, 14.12302525,  9.47252582,  9.68276022,\n",
       "        8.36559964,  6.78463405,  8.71624519, 10.99760523, 11.52891106])"
      ]
     },
     "execution_count": 127,
     "metadata": {},
     "output_type": "execute_result"
    }
   ],
   "source": [
    "# Il est inutile de faire des boucles\n",
    "(notes*coef[np.newaxis, :]).sum(axis=1)/np.sum(coef)"
   ]
  },
  {
   "cell_type": "markdown",
   "metadata": {},
   "source": [
    "# Au delà de numpy : numba\n",
    "* Calculer $\\pi$ (avec une formule très très lente!!!)\n",
    "$$ \\frac\\pi4 = \\sum_i \\frac{(-1)^i}{2i+1} = 1 - \\frac13 + \\frac 15 - \\frac17 + \\ldots $$\n"
   ]
  },
  {
   "cell_type": "code",
   "execution_count": 129,
   "metadata": {},
   "outputs": [
    {
     "name": "stdout",
     "output_type": "stream",
     "text": [
      "113 ms ± 1.94 ms per loop (mean ± std. dev. of 7 runs, 10 loops each)\n",
      "29.2 ms ± 341 µs per loop (mean ± std. dev. of 7 runs, 10 loops each)\n",
      "4.57 ms ± 80.3 µs per loop (mean ± std. dev. of 7 runs, 100 loops each)\n"
     ]
    }
   ],
   "source": [
    "def pi_python(N):\n",
    "    res = 0\n",
    "    coef = 1\n",
    "    for i in range(N):\n",
    "        res += coef/(2*i+1)\n",
    "        coef = -coef\n",
    "    return 4*res\n",
    "\n",
    "%timeit pi_python(1000000) # 155 ms\n",
    "\n",
    "def pi_np(N):\n",
    "    Ti = arange(N)\n",
    "    return 4*np.sum((1-2*(Ti%2))/(2*Ti+1))\n",
    "\n",
    "%timeit pi_np(1000000) # 28.3ms\n",
    "\n",
    "from numba import jit, int64, float64\n",
    "numba_pi = jit(float64(int64))(pi_python)\n",
    "\n",
    "@jit( float64(int64) )\n",
    "def pi_python(N):\n",
    "    res = 0\n",
    "    coef = 1\n",
    "    for i in range(N):\n",
    "        res += coef/(2*i+1)\n",
    "        coef = -coef\n",
    "    return 4*res\n",
    "%timeit numba_pi(1000000)"
   ]
  },
  {
   "cell_type": "code",
   "execution_count": null,
   "metadata": {},
   "outputs": [],
   "source": [
    "# Numpy utilise des variables intermédiaires -> vitesse limitée par la mémoire\n",
    "(a + b)*c + a\n",
    "tmp1 = a + b\n",
    "tmp2 = tmp1*c\n",
    "res = tmp2 + a"
   ]
  }
 ],
 "metadata": {
  "kernelspec": {
   "display_name": "Python 3",
   "language": "python",
   "name": "python3"
  },
  "language_info": {
   "codemirror_mode": {
    "name": "ipython",
    "version": 3
   },
   "file_extension": ".py",
   "mimetype": "text/x-python",
   "name": "python",
   "nbconvert_exporter": "python",
   "pygments_lexer": "ipython3",
   "version": "3.6.5"
  }
 },
 "nbformat": 4,
 "nbformat_minor": 2
}
