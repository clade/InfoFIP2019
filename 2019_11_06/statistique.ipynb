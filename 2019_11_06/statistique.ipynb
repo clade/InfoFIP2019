{
 "cells": [
  {
   "cell_type": "markdown",
   "metadata": {},
   "source": [
    "# Statistique"
   ]
  },
  {
   "cell_type": "code",
   "execution_count": 40,
   "metadata": {},
   "outputs": [],
   "source": [
    "import numpy as np\n",
    "import matplotlib.pyplot as plt"
   ]
  },
  {
   "cell_type": "code",
   "execution_count": 2,
   "metadata": {},
   "outputs": [],
   "source": [
    "def estimateur1(x):\n",
    "    return x[0]\n",
    "\n",
    "def estimateur2(x):\n",
    "    return np.mean(x)\n",
    "\n",
    "def estimateur3(x):\n",
    "    return (np.max(x) + np.min(x))/2"
   ]
  },
  {
   "cell_type": "code",
   "execution_count": 30,
   "metadata": {},
   "outputs": [
    {
     "name": "stdout",
     "output_type": "stream",
     "text": [
      "0.6304252422224115\n",
      "0.5863216470690307\n",
      "0.5618354050862305\n"
     ]
    }
   ],
   "source": [
    "N = 10\n",
    "\n",
    "x = np.random.rand(N)\n",
    "\n",
    "print(estimateur1(x))\n",
    "print(estimateur2(x))\n",
    "print(estimateur3(x))"
   ]
  },
  {
   "cell_type": "code",
   "execution_count": 53,
   "metadata": {},
   "outputs": [],
   "source": [
    "# Un estimateur, N, M => esperance, ecart type, histogramme\n",
    "\n",
    "def simulation(estimateur, N, M):\n",
    "    return np.array([estimateur(np.random.rand(N)) for _ in range(M)])\n",
    "\n",
    "def esperance(estimateur, N, M=10000):\n",
    "    return np.mean(simulation(estimateur, N, M))\n",
    "\n",
    "def ecart_type(estimateur, N, M=10000):\n",
    "    return np.std(simulation(estimateur, N, M))\n",
    "\n",
    "def histogramme(estimateur, N, M=10000, label=None):\n",
    "    plt.hist(simulation(estimateur, N, M), bins=np.linspace(0, 1, 51), label=label, density=True)\n",
    "    \n"
   ]
  },
  {
   "cell_type": "code",
   "execution_count": 56,
   "metadata": {},
   "outputs": [
    {
     "name": "stdout",
     "output_type": "stream",
     "text": [
      "Estimateur 0\n",
      "Esperance 0.4988973973473664\n",
      "Ecart type 0.28836260481117043\n",
      "\n",
      "Estimateur 1\n",
      "Esperance 0.4998837916721079\n",
      "Ecart type 0.029395688310367284\n",
      "\n",
      "Estimateur 2\n",
      "Esperance 0.5000655936442833\n",
      "Ecart type 0.0070825140521882015\n",
      "\n"
     ]
    }
   ],
   "source": [
    "liste_estimateur = [estimateur1, estimateur2, estimateur3]\n",
    "\n",
    "N=100\n",
    "for i, estimateur in enumerate(liste_estimateur):\n",
    "    print('Estimateur {}'.format(i))\n",
    "    print('Esperance', esperance(estimateur, N))\n",
    "    print('Ecart type', ecart_type(estimateur, N))\n",
    "    print('')"
   ]
  },
  {
   "cell_type": "code",
   "execution_count": 55,
   "metadata": {},
   "outputs": [
    {
     "data": {
      "text/plain": [
       "<matplotlib.legend.Legend at 0x7fac636934a8>"
      ]
     },
     "execution_count": 55,
     "metadata": {},
     "output_type": "execute_result"
    },
    {
     "data": {
      "image/png": "[encoded data removed]",
      "text/plain": [
       "<Figure size 432x288 with 1 Axes>"
      ]
     },
     "metadata": {},
     "output_type": "display_data"
    }
   ],
   "source": [
    "for i, estimateur in enumerate(liste_estimateur):\n",
    "    histogramme(estimateur, 100, label={i})\n",
    "plt.legend()"
   ]
  },
  {
   "cell_type": "code",
   "execution_count": null,
   "metadata": {},
   "outputs": [],
   "source": []
  },
  {
   "cell_type": "code",
   "execution_count": null,
   "metadata": {},
   "outputs": [],
   "source": []
  }
 ],
 "metadata": {
  "kernelspec": {
   "display_name": "Python 3",
   "language": "python",
   "name": "python3"
  },
  "language_info": {
   "codemirror_mode": {
    "name": "ipython",
    "version": 3
   },
   "file_extension": ".py",
   "mimetype": "text/x-python",
   "name": "python",
   "nbconvert_exporter": "python",
   "pygments_lexer": "ipython3",
   "version": "3.6.5"
  }
 },
 "nbformat": 4,
 "nbformat_minor": 2
}
