{
 "cells": [
  {
   "cell_type": "code",
   "execution_count": 28,
   "metadata": {},
   "outputs": [],
   "source": [
    "import numbers\n",
    "\n",
    "class Expr():\n",
    "    def __str__(self):\n",
    "        return self.display()\n",
    "    \n",
    "    def __mul__(self, other):\n",
    "        return Prod(self, other)\n",
    "\n",
    "    def __rmul__(self, other):\n",
    "        return Prod(other, self)    \n",
    "    \n",
    "    def __add__(self, other):\n",
    "        return Sum(self, other)\n",
    "\n",
    "    def __radd__(self, other):\n",
    "        return Sum(other, self)\n",
    "    \n",
    "    \n",
    "    \n",
    "class Node(Expr):\n",
    "    pass\n",
    "\n",
    "    \n",
    "class Leave(Expr):\n",
    "    pass\n",
    "\n",
    "class Symbol(Leave):\n",
    "    def __init__(self, name):\n",
    "        assert isinstance(name, str), 'name should be a str'\n",
    "        self.name = name\n",
    "        \n",
    "    def display(self):\n",
    "        return self.name        \n",
    "    \n",
    "    def __repr__(self):\n",
    "        return 'Symbol({})'.format(self.name)\n",
    "        \n",
    "class Number(Leave):\n",
    "    def __init__(self, val):\n",
    "        self.val = val\n",
    "        \n",
    "    def display(self):\n",
    "        return str(self.val)\n",
    "        \n",
    "    def __repr__(self):\n",
    "        return 'Number({})'.format(self.val)\n",
    "    \n",
    "    \n",
    "class Function(Node):\n",
    "    pass\n",
    "\n",
    "class MathFunction(Node):\n",
    "    def __init__(self, arg):\n",
    "        if isinstance(arg, numbers.Number):\n",
    "            arg = Number(arg)\n",
    "        assert isinstance(arg, Expr)\n",
    "        self.arg = arg\n",
    "        \n",
    "    def display(self):\n",
    "        return '{}({})'.format(self.function_name, \n",
    "                               self.arg.display())\n",
    "    \n",
    "    def __repr__(self):\n",
    "        arg = repr(self.arg)\n",
    "        return '{self.__class__.__name__}({arg})'.format(self=self, arg=arg)\n",
    "class Sin(MathFunction):\n",
    "    function_name = 'sin'\n",
    "\n",
    "\n",
    "class BinaryOperator(Function):\n",
    "    def __init__(self, arg1, arg2):\n",
    "        if isinstance(arg1, numbers.Number):\n",
    "            arg1 = Number(arg1)\n",
    "        if isinstance(arg2, numbers.Number):\n",
    "            arg2 = Number(arg2)\n",
    "        self.arg1 = arg1\n",
    "        self.arg2 = arg2\n",
    "    \n",
    "    def display(self):\n",
    "        left = self.arg1.display()\n",
    "        right = self.arg2.display()\n",
    "        return \"{left} {self.operator_name} {right}\".format(left=left,\n",
    "                                                            right=right,\n",
    "                                                            self=self)\n",
    "    \n",
    "    def __repr__(self):\n",
    "        left = repr(self.arg1)\n",
    "        right = repr(self.arg2)\n",
    "        return \"{self.__class__.__name__}({left}, {right})\".format(left=left,\n",
    "                                                            right=right,\n",
    "                                                            self=self)\n",
    "        \n",
    "\n",
    "class Sum(BinaryOperator):\n",
    "    operator_name = '+'\n",
    "\n",
    "class Prod(BinaryOperator):\n",
    "    operator_name = '*'\n",
    "\n",
    "class Div(BinaryOperator):\n",
    "    operator_name = '/'\n",
    "    \n",
    "class Sub(BinaryOperator):\n",
    "    operator_name = '/'\n",
    "    \n",
    "\n",
    "# Idem pour Sub, Div, Prod, Pow\n",
    "class UnitaryOperator(Function):\n",
    "    pass\n",
    "\n",
    "class Neg(UnitaryOperator):\n",
    "    pass"
   ]
  },
  {
   "cell_type": "code",
   "execution_count": 29,
   "metadata": {},
   "outputs": [
    {
     "data": {
      "text/plain": [
       "Sum(Symbol(x), Sin(Prod(Symbol(x), Symbol(y))))"
      ]
     },
     "execution_count": 29,
     "metadata": {},
     "output_type": "execute_result"
    }
   ],
   "source": [
    "x = Symbol('x')\n",
    "y = Symbol('y')\n",
    "expr = Sum(x, Sin(Prod(x, y)))\n",
    "expr"
   ]
  },
  {
   "cell_type": "code",
   "execution_count": 30,
   "metadata": {},
   "outputs": [
    {
     "data": {
      "text/plain": [
       "Sum(Symbol(x), Sin(Prod(Prod(Number(2), Symbol(x)), Symbol(y))))"
      ]
     },
     "execution_count": 30,
     "metadata": {},
     "output_type": "execute_result"
    }
   ],
   "source": [
    "x + Sin(2*x*y)"
   ]
  },
  {
   "cell_type": "code",
   "execution_count": 19,
   "metadata": {},
   "outputs": [
    {
     "data": {
      "text/plain": [
       "False"
      ]
     },
     "execution_count": 19,
     "metadata": {},
     "output_type": "execute_result"
    }
   ],
   "source": [
    "isinstance(2, float)"
   ]
  },
  {
   "cell_type": "code",
   "execution_count": 23,
   "metadata": {},
   "outputs": [
    {
     "data": {
      "text/plain": [
       "True"
      ]
     },
     "execution_count": 23,
     "metadata": {},
     "output_type": "execute_result"
    }
   ],
   "source": [
    "isinstance(x, Expr)"
   ]
  },
  {
   "cell_type": "code",
   "execution_count": null,
   "metadata": {},
   "outputs": [],
   "source": []
  }
 ],
 "metadata": {
  "kernelspec": {
   "display_name": "Python 3",
   "language": "python",
   "name": "python3"
  },
  "language_info": {
   "codemirror_mode": {
    "name": "ipython",
    "version": 3
   },
   "file_extension": ".py",
   "mimetype": "text/x-python",
   "name": "python",
   "nbconvert_exporter": "python",
   "pygments_lexer": "ipython3",
   "version": "3.6.5"
  }
 },
 "nbformat": 4,
 "nbformat_minor": 2
}
