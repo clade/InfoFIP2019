{
 "cells": [
  {
   "cell_type": "code",
   "execution_count": 29,
   "metadata": {},
   "outputs": [],
   "source": [
    "import numbers\n",
    "\n",
    "class Expr():\n",
    "    def __str__(self):\n",
    "        return self.display()\n",
    "    \n",
    "class Node(Expr):\n",
    "    pass\n",
    "\n",
    "    \n",
    "class Leave(Expr):\n",
    "    pass\n",
    "\n",
    "class Symbol(Leave):\n",
    "    def __init__(self, name):\n",
    "        assert isinstance(name, str), 'name should be a str'\n",
    "        self.name = name\n",
    "        \n",
    "    def display(self):\n",
    "        return self.name        \n",
    "    \n",
    "    def __repr__(self):\n",
    "        return 'Symbol({})'.format(self.name)\n",
    "        \n",
    "class Number(Leave):\n",
    "    def __init__(self, val):\n",
    "        self.val = val\n",
    "        \n",
    "    def display(self):\n",
    "        return str(self.val)\n",
    "        \n",
    "    def __repr__(self):\n",
    "        return 'Number({})'.format(self.val)\n",
    "    \n",
    "    \n",
    "class Function(Node):\n",
    "    pass\n",
    "\n",
    "class MathFunction(Node):\n",
    "    def __init__(self, arg):\n",
    "        if isinstance(arg, numbers.Number):\n",
    "            arg = Number(arg)\n",
    "        assert isinstance(arg, Expr)\n",
    "        self.arg = arg\n",
    "        \n",
    "    def display(self):\n",
    "        return '{}({})'.format(self.function_name, \n",
    "                               self.arg.display())\n",
    "class Sin(MathFunction):\n",
    "    function_name = 'sin'\n"
   ]
  },
  {
   "cell_type": "code",
   "execution_count": 30,
   "metadata": {},
   "outputs": [
    {
     "name": "stdout",
     "output_type": "stream",
     "text": [
      "sin(x)\n"
     ]
    }
   ],
   "source": [
    "x = Symbol('x')\n",
    "print(Sin(x))"
   ]
  },
  {
   "cell_type": "code",
   "execution_count": 32,
   "metadata": {},
   "outputs": [
    {
     "name": "stdout",
     "output_type": "stream",
     "text": [
      "sin(2)\n"
     ]
    }
   ],
   "source": [
    "print(Sin(2))"
   ]
  },
  {
   "cell_type": "code",
   "execution_count": 19,
   "metadata": {},
   "outputs": [
    {
     "data": {
      "text/plain": [
       "False"
      ]
     },
     "execution_count": 19,
     "metadata": {},
     "output_type": "execute_result"
    }
   ],
   "source": [
    "isinstance(2, float)"
   ]
  },
  {
   "cell_type": "code",
   "execution_count": 23,
   "metadata": {},
   "outputs": [
    {
     "data": {
      "text/plain": [
       "True"
      ]
     },
     "execution_count": 23,
     "metadata": {},
     "output_type": "execute_result"
    }
   ],
   "source": [
    "isinstance(x, Expr)"
   ]
  },
  {
   "cell_type": "code",
   "execution_count": null,
   "metadata": {},
   "outputs": [],
   "source": []
  }
 ],
 "metadata": {
  "kernelspec": {
   "display_name": "Python 3",
   "language": "python",
   "name": "python3"
  },
  "language_info": {
   "codemirror_mode": {
    "name": "ipython",
    "version": 3
   },
   "file_extension": ".py",
   "mimetype": "text/x-python",
   "name": "python",
   "nbconvert_exporter": "python",
   "pygments_lexer": "ipython3",
   "version": "3.6.5"
  }
 },
 "nbformat": 4,
 "nbformat_minor": 2
}
